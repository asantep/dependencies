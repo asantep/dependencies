{
 "cells": [
  {
   "cell_type": "code",
   "id": "initial_id",
   "metadata": {
    "collapsed": true,
    "ExecuteTime": {
     "end_time": "2025-01-28T19:38:52.415978Z",
     "start_time": "2025-01-28T19:38:51.402275Z"
    }
   },
   "source": [
    "import numpy as np\n",
    "import pandas as pd\n",
    "from synthetic import simulate_var, simulate_lorenz_96\n",
    "import torch\n",
    "from matplotlib import pyplot as plt\n",
    "\n",
    "torch.manual_seed(1024)"
   ],
   "outputs": [
    {
     "data": {
      "text/plain": [
       "<torch._C.Generator at 0x76e09c5e6eb0>"
      ]
     },
     "execution_count": 2,
     "metadata": {},
     "output_type": "execute_result"
    }
   ],
   "execution_count": 2
  },
  {
   "metadata": {
    "ExecuteTime": {
     "end_time": "2025-01-28T19:39:07.367296Z",
     "start_time": "2025-01-28T19:39:07.337666Z"
    }
   },
   "cell_type": "code",
   "source": "device = torch.device(\"cuda:0\" if torch.cuda.is_available() else \"cpu\")",
   "id": "a4317c580fbfa247",
   "outputs": [],
   "execution_count": 3
  },
  {
   "metadata": {
    "ExecuteTime": {
     "end_time": "2025-01-28T19:49:35.218251Z",
     "start_time": "2025-01-28T19:49:35.173404Z"
    }
   },
   "cell_type": "code",
   "source": [
    "# Simulate data\n",
    "X_np, beta, GC = simulate_var(p=20, T=1000, lag=3)\n",
    "X = torch.tensor(X_np[np.newaxis], dtype=torch.float32, device=device)"
   ],
   "id": "96e0af5c87720735",
   "outputs": [],
   "execution_count": 4
  },
  {
   "metadata": {
    "ExecuteTime": {
     "end_time": "2025-01-28T19:56:15.619969Z",
     "start_time": "2025-01-28T19:56:15.617285Z"
    }
   },
   "cell_type": "code",
   "source": "X.shape",
   "id": "be5f4119a7a5961b",
   "outputs": [
    {
     "data": {
      "text/plain": [
       "torch.Size([1, 1000, 20])"
      ]
     },
     "execution_count": 6,
     "metadata": {},
     "output_type": "execute_result"
    }
   ],
   "execution_count": 6
  },
  {
   "metadata": {
    "ExecuteTime": {
     "end_time": "2025-01-28T19:56:26.410010Z",
     "start_time": "2025-01-28T19:56:26.405850Z"
    }
   },
   "cell_type": "code",
   "source": "X[0]",
   "id": "fcd8d92c3002915",
   "outputs": [
    {
     "data": {
      "text/plain": [
       "tensor([[-0.0247,  0.0581, -0.1074,  ..., -0.0773,  0.0309, -0.1119],\n",
       "        [-0.1860, -0.0797,  0.0094,  ..., -0.1162,  0.0356,  0.0330],\n",
       "        [ 0.0245, -0.0565, -0.0416,  ...,  0.0186, -0.0529,  0.0466],\n",
       "        ...,\n",
       "        [ 0.0971, -0.0007,  0.1733,  ...,  0.2124,  0.1356, -0.1284],\n",
       "        [ 0.0812,  0.2062,  0.0903,  ...,  0.1572,  0.0812, -0.2062],\n",
       "        [-0.0392,  0.0761,  0.1026,  ..., -0.0004,  0.0264,  0.0990]])"
      ]
     },
     "execution_count": 7,
     "metadata": {},
     "output_type": "execute_result"
    }
   ],
   "execution_count": 7
  },
  {
   "metadata": {},
   "cell_type": "code",
   "outputs": [],
   "execution_count": null,
   "source": "",
   "id": "b9178f6b79c51c4e"
  }
 ],
 "metadata": {
  "kernelspec": {
   "display_name": "Python 3",
   "language": "python",
   "name": "python3"
  },
  "language_info": {
   "codemirror_mode": {
    "name": "ipython",
    "version": 2
   },
   "file_extension": ".py",
   "mimetype": "text/x-python",
   "name": "python",
   "nbconvert_exporter": "python",
   "pygments_lexer": "ipython2",
   "version": "2.7.6"
  }
 },
 "nbformat": 4,
 "nbformat_minor": 5
}
