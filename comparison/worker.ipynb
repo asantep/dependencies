{
 "cells": [
  {
   "cell_type": "code",
   "id": "initial_id",
   "metadata": {
    "collapsed": true,
    "ExecuteTime": {
     "end_time": "2025-01-28T20:38:21.486553Z",
     "start_time": "2025-01-28T20:38:20.530080Z"
    }
   },
   "source": [
    "import numpy as np\n",
    "import pandas as pd\n",
    "from synthetic import simulate_var, simulate_lorenz_96\n",
    "import torch\n",
    "from matplotlib import pyplot as plt\n",
    "\n",
    "torch.manual_seed(1024)"
   ],
   "outputs": [
    {
     "data": {
      "text/plain": [
       "<torch._C.Generator at 0x727dbaae5230>"
      ]
     },
     "execution_count": 1,
     "metadata": {},
     "output_type": "execute_result"
    }
   ],
   "execution_count": 1
  },
  {
   "metadata": {
    "ExecuteTime": {
     "end_time": "2025-01-28T20:38:22.954911Z",
     "start_time": "2025-01-28T20:38:22.944081Z"
    }
   },
   "cell_type": "code",
   "source": "device = torch.device(\"cuda:0\" if torch.cuda.is_available() else \"cpu\")",
   "id": "a4317c580fbfa247",
   "outputs": [],
   "execution_count": 2
  },
  {
   "metadata": {
    "ExecuteTime": {
     "end_time": "2025-01-28T20:52:25.767821Z",
     "start_time": "2025-01-28T20:52:25.729814Z"
    }
   },
   "cell_type": "code",
   "source": [
    "# Simulate data\n",
    "X_var_np, beta_var, GC_var = simulate_var(p=20, T=500, lag=3)\n",
    "X_var = torch.tensor(X_var_np[np.newaxis], dtype=torch.float32, device=device)"
   ],
   "id": "96e0af5c87720735",
   "outputs": [],
   "execution_count": 18
  },
  {
   "metadata": {
    "ExecuteTime": {
     "end_time": "2025-01-28T20:52:26.775503Z",
     "start_time": "2025-01-28T20:52:26.311805Z"
    }
   },
   "cell_type": "code",
   "source": [
    "X_lorenz_np, GC_lorenz = simulate_lorenz_96(p=20, F=10, T=500)\n",
    "X_lorenz = torch.tensor(X_lorenz_np[np.newaxis], dtype=torch.float32, device=device)"
   ],
   "id": "b9178f6b79c51c4e",
   "outputs": [],
   "execution_count": 19
  },
  {
   "metadata": {
    "ExecuteTime": {
     "end_time": "2025-01-28T20:52:26.980641Z",
     "start_time": "2025-01-28T20:52:26.965088Z"
    }
   },
   "cell_type": "code",
   "source": [
    "var_df = pd.DataFrame(X_var_np)\n",
    "var_df.to_csv(f\"var{500}.csv\", index=False)"
   ],
   "id": "766f0931cef3dc7f",
   "outputs": [],
   "execution_count": 20
  },
  {
   "metadata": {
    "ExecuteTime": {
     "end_time": "2025-01-28T20:52:27.750065Z",
     "start_time": "2025-01-28T20:52:27.734390Z"
    }
   },
   "cell_type": "code",
   "source": [
    "lorenz_df = pd.DataFrame(X_var_np)\n",
    "lorenz_df.to_csv(f\"lorenx{500}.csv\", index=False)"
   ],
   "id": "ccb00c5f9f56459",
   "outputs": [],
   "execution_count": 21
  },
  {
   "metadata": {},
   "cell_type": "code",
   "outputs": [],
   "execution_count": null,
   "source": "",
   "id": "7b3c337a3e6d4953"
  }
 ],
 "metadata": {
  "kernelspec": {
   "display_name": "Python 3",
   "language": "python",
   "name": "python3"
  },
  "language_info": {
   "codemirror_mode": {
    "name": "ipython",
    "version": 2
   },
   "file_extension": ".py",
   "mimetype": "text/x-python",
   "name": "python",
   "nbconvert_exporter": "python",
   "pygments_lexer": "ipython2",
   "version": "2.7.6"
  }
 },
 "nbformat": 4,
 "nbformat_minor": 5
}
